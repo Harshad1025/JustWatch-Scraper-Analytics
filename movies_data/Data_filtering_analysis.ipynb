{
 "cells": [
  {
   "cell_type": "markdown",
   "metadata": {},
   "source": [
    "import neccesory libraries"
   ]
  },
  {
   "cell_type": "code",
   "execution_count": 1,
   "metadata": {},
   "outputs": [],
   "source": [
    "import pandas as pd \n",
    "import numpy as np \n",
    "import scipy.stats as stat\n",
    "import re\n",
    "import seaborn as sns\n",
    "import matplotlib.pyplot as plt \n",
    "\n"
   ]
  },
  {
   "cell_type": "code",
   "execution_count": 2,
   "metadata": {},
   "outputs": [],
   "source": [
    "# load the scrapped dataset \n",
    "df = pd.read_csv('https://raw.githubusercontent.com/Harshad1025/JustWatch-Scraper-Analytics/ba847b38af169ab3e3b0474c621963668b7a35e2/movies_data/movie_data.csv')"
   ]
  },
  {
   "cell_type": "code",
   "execution_count": 3,
   "metadata": {},
   "outputs": [
    {
     "data": {
      "text/plain": [
       "(970, 5)"
      ]
     },
     "execution_count": 3,
     "metadata": {},
     "output_type": "execute_result"
    }
   ],
   "source": [
    "# shape of dataset \n",
    "df.shape"
   ]
  },
  {
   "cell_type": "code",
   "execution_count": 4,
   "metadata": {},
   "outputs": [
    {
     "data": {
      "text/html": [
       "<div>\n",
       "<style scoped>\n",
       "    .dataframe tbody tr th:only-of-type {\n",
       "        vertical-align: middle;\n",
       "    }\n",
       "\n",
       "    .dataframe tbody tr th {\n",
       "        vertical-align: top;\n",
       "    }\n",
       "\n",
       "    .dataframe thead th {\n",
       "        text-align: right;\n",
       "    }\n",
       "</style>\n",
       "<table border=\"1\" class=\"dataframe\">\n",
       "  <thead>\n",
       "    <tr style=\"text-align: right;\">\n",
       "      <th></th>\n",
       "      <th>Movie Title</th>\n",
       "      <th>Release Year</th>\n",
       "      <th>IMDb Rating</th>\n",
       "      <th>Movie Link</th>\n",
       "      <th>Stream</th>\n",
       "    </tr>\n",
       "  </thead>\n",
       "  <tbody>\n",
       "    <tr>\n",
       "      <th>0</th>\n",
       "      <td>True Detective</td>\n",
       "      <td>(2014)</td>\n",
       "      <td>8.9</td>\n",
       "      <td>/in/tv-show/true-detective</td>\n",
       "      <td>Jio Cinema</td>\n",
       "    </tr>\n",
       "    <tr>\n",
       "      <th>1</th>\n",
       "      <td>Indian Police Force</td>\n",
       "      <td>(2024)</td>\n",
       "      <td>6.0</td>\n",
       "      <td>/in/tv-show/indian-police-force</td>\n",
       "      <td>Amazon Prime Video</td>\n",
       "    </tr>\n",
       "    <tr>\n",
       "      <th>2</th>\n",
       "      <td>Reacher</td>\n",
       "      <td>(2022)</td>\n",
       "      <td>8.1</td>\n",
       "      <td>/in/tv-show/jack-reacher</td>\n",
       "      <td>Amazon Prime Video</td>\n",
       "    </tr>\n",
       "    <tr>\n",
       "      <th>3</th>\n",
       "      <td>Animal</td>\n",
       "      <td>(2023)</td>\n",
       "      <td>6.4</td>\n",
       "      <td>/in/movie/animal-2022</td>\n",
       "      <td>Netflix, Bookmyshow</td>\n",
       "    </tr>\n",
       "    <tr>\n",
       "      <th>4</th>\n",
       "      <td>Mirzapur</td>\n",
       "      <td>(2018)</td>\n",
       "      <td>8.5</td>\n",
       "      <td>/in/tv-show/mirzapur</td>\n",
       "      <td>Amazon Prime Video</td>\n",
       "    </tr>\n",
       "  </tbody>\n",
       "</table>\n",
       "</div>"
      ],
      "text/plain": [
       "           Movie Title Release Year  IMDb Rating  \\\n",
       "0       True Detective       (2014)          8.9   \n",
       "1  Indian Police Force       (2024)          6.0   \n",
       "2              Reacher       (2022)          8.1   \n",
       "3               Animal       (2023)          6.4   \n",
       "4             Mirzapur       (2018)          8.5   \n",
       "\n",
       "                        Movie Link               Stream  \n",
       "0       /in/tv-show/true-detective           Jio Cinema  \n",
       "1  /in/tv-show/indian-police-force   Amazon Prime Video  \n",
       "2         /in/tv-show/jack-reacher   Amazon Prime Video  \n",
       "3            /in/movie/animal-2022  Netflix, Bookmyshow  \n",
       "4             /in/tv-show/mirzapur   Amazon Prime Video  "
      ]
     },
     "execution_count": 4,
     "metadata": {},
     "output_type": "execute_result"
    }
   ],
   "source": [
    "# first view of data set\n",
    "df.head()"
   ]
  },
  {
   "cell_type": "code",
   "execution_count": 5,
   "metadata": {},
   "outputs": [
    {
     "data": {
      "text/html": [
       "<div>\n",
       "<style scoped>\n",
       "    .dataframe tbody tr th:only-of-type {\n",
       "        vertical-align: middle;\n",
       "    }\n",
       "\n",
       "    .dataframe tbody tr th {\n",
       "        vertical-align: top;\n",
       "    }\n",
       "\n",
       "    .dataframe thead th {\n",
       "        text-align: right;\n",
       "    }\n",
       "</style>\n",
       "<table border=\"1\" class=\"dataframe\">\n",
       "  <thead>\n",
       "    <tr style=\"text-align: right;\">\n",
       "      <th></th>\n",
       "      <th>Movie Title</th>\n",
       "      <th>Release Year</th>\n",
       "      <th>IMDb Rating</th>\n",
       "      <th>Movie Link</th>\n",
       "      <th>Stream</th>\n",
       "    </tr>\n",
       "  </thead>\n",
       "  <tbody>\n",
       "    <tr>\n",
       "      <th>965</th>\n",
       "      <td>Hridayam</td>\n",
       "      <td>(2022)</td>\n",
       "      <td>8.1</td>\n",
       "      <td>/in/movie/hridayam</td>\n",
       "      <td>NaN</td>\n",
       "    </tr>\n",
       "    <tr>\n",
       "      <th>966</th>\n",
       "      <td>American Gods</td>\n",
       "      <td>(2017)</td>\n",
       "      <td>7.6</td>\n",
       "      <td>/in/tv-show/american-gods</td>\n",
       "      <td>Amazon Prime Video</td>\n",
       "    </tr>\n",
       "    <tr>\n",
       "      <th>967</th>\n",
       "      <td>Gigolò per caso</td>\n",
       "      <td>(2023)</td>\n",
       "      <td>6.5</td>\n",
       "      <td>/in/tv-show/gigolo-per-caso</td>\n",
       "      <td>Amazon Prime Video</td>\n",
       "    </tr>\n",
       "    <tr>\n",
       "      <th>968</th>\n",
       "      <td>Level 1 Demon Lord &amp; One Room Hero</td>\n",
       "      <td>(2023)</td>\n",
       "      <td>6.6</td>\n",
       "      <td>/in/tv-show/level-1-demon-lord-and-one-room-hero</td>\n",
       "      <td>Netflix</td>\n",
       "    </tr>\n",
       "    <tr>\n",
       "      <th>969</th>\n",
       "      <td>Saw X</td>\n",
       "      <td>(2023)</td>\n",
       "      <td>6.6</td>\n",
       "      <td>/in/movie/saw-x</td>\n",
       "      <td>Lionsgate Play, Apple TV, Apple TV</td>\n",
       "    </tr>\n",
       "  </tbody>\n",
       "</table>\n",
       "</div>"
      ],
      "text/plain": [
       "                            Movie Title Release Year  IMDb Rating  \\\n",
       "965                            Hridayam       (2022)          8.1   \n",
       "966                       American Gods       (2017)          7.6   \n",
       "967                     Gigolò per caso       (2023)          6.5   \n",
       "968  Level 1 Demon Lord & One Room Hero       (2023)          6.6   \n",
       "969                               Saw X       (2023)          6.6   \n",
       "\n",
       "                                           Movie Link  \\\n",
       "965                                /in/movie/hridayam   \n",
       "966                         /in/tv-show/american-gods   \n",
       "967                       /in/tv-show/gigolo-per-caso   \n",
       "968  /in/tv-show/level-1-demon-lord-and-one-room-hero   \n",
       "969                                   /in/movie/saw-x   \n",
       "\n",
       "                                 Stream  \n",
       "965                                 NaN  \n",
       "966                  Amazon Prime Video  \n",
       "967                  Amazon Prime Video  \n",
       "968                             Netflix  \n",
       "969  Lionsgate Play, Apple TV, Apple TV  "
      ]
     },
     "execution_count": 5,
     "metadata": {},
     "output_type": "execute_result"
    }
   ],
   "source": [
    "df.tail()"
   ]
  },
  {
   "cell_type": "code",
   "execution_count": 6,
   "metadata": {},
   "outputs": [
    {
     "name": "stdout",
     "output_type": "stream",
     "text": [
      "<class 'pandas.core.frame.DataFrame'>\n",
      "RangeIndex: 970 entries, 0 to 969\n",
      "Data columns (total 5 columns):\n",
      " #   Column        Non-Null Count  Dtype  \n",
      "---  ------        --------------  -----  \n",
      " 0   Movie Title   970 non-null    object \n",
      " 1   Release Year  970 non-null    object \n",
      " 2   IMDb Rating   938 non-null    float64\n",
      " 3   Movie Link    970 non-null    object \n",
      " 4   Stream        819 non-null    object \n",
      "dtypes: float64(1), object(4)\n",
      "memory usage: 38.0+ KB\n"
     ]
    }
   ],
   "source": [
    "# information about dataset\n",
    "df.info()"
   ]
  },
  {
   "cell_type": "code",
   "execution_count": 7,
   "metadata": {},
   "outputs": [
    {
     "data": {
      "text/plain": [
       "Movie Title       0\n",
       "Release Year      0\n",
       "IMDb Rating      32\n",
       "Movie Link        0\n",
       "Stream          151\n",
       "dtype: int64"
      ]
     },
     "execution_count": 7,
     "metadata": {},
     "output_type": "execute_result"
    }
   ],
   "source": [
    "# check wheather null values are present in the dataset \n",
    "df.isnull().sum()"
   ]
  },
  {
   "cell_type": "code",
   "execution_count": 8,
   "metadata": {},
   "outputs": [
    {
     "data": {
      "text/plain": [
       "0"
      ]
     },
     "execution_count": 8,
     "metadata": {},
     "output_type": "execute_result"
    }
   ],
   "source": [
    "# check duplicate rows\n",
    "df.duplicated().sum()"
   ]
  },
  {
   "cell_type": "code",
   "execution_count": 9,
   "metadata": {},
   "outputs": [
    {
     "data": {
      "text/plain": [
       "Index(['Movie Title', 'Release Year', 'IMDb Rating', 'Movie Link', 'Stream'], dtype='object')"
      ]
     },
     "execution_count": 9,
     "metadata": {},
     "output_type": "execute_result"
    }
   ],
   "source": [
    "# dataset columns\n",
    "df.columns"
   ]
  },
  {
   "cell_type": "code",
   "execution_count": 10,
   "metadata": {},
   "outputs": [],
   "source": [
    "# Remove non-numeric characters and convert to number for 'Release Year' column\n",
    "df['Release Year'] = df['Release Year'].apply(lambda x: re.sub('[^0-9]', '', x)).astype(int)\n"
   ]
  },
  {
   "cell_type": "code",
   "execution_count": 11,
   "metadata": {},
   "outputs": [
    {
     "data": {
      "text/html": [
       "<div>\n",
       "<style scoped>\n",
       "    .dataframe tbody tr th:only-of-type {\n",
       "        vertical-align: middle;\n",
       "    }\n",
       "\n",
       "    .dataframe tbody tr th {\n",
       "        vertical-align: top;\n",
       "    }\n",
       "\n",
       "    .dataframe thead th {\n",
       "        text-align: right;\n",
       "    }\n",
       "</style>\n",
       "<table border=\"1\" class=\"dataframe\">\n",
       "  <thead>\n",
       "    <tr style=\"text-align: right;\">\n",
       "      <th></th>\n",
       "      <th>Release Year</th>\n",
       "      <th>IMDb Rating</th>\n",
       "    </tr>\n",
       "  </thead>\n",
       "  <tbody>\n",
       "    <tr>\n",
       "      <th>count</th>\n",
       "      <td>970.000000</td>\n",
       "      <td>938.000000</td>\n",
       "    </tr>\n",
       "    <tr>\n",
       "      <th>mean</th>\n",
       "      <td>2017.118557</td>\n",
       "      <td>7.499574</td>\n",
       "    </tr>\n",
       "    <tr>\n",
       "      <th>std</th>\n",
       "      <td>8.006278</td>\n",
       "      <td>1.167379</td>\n",
       "    </tr>\n",
       "    <tr>\n",
       "      <th>min</th>\n",
       "      <td>1962.000000</td>\n",
       "      <td>2.000000</td>\n",
       "    </tr>\n",
       "    <tr>\n",
       "      <th>25%</th>\n",
       "      <td>2015.000000</td>\n",
       "      <td>7.000000</td>\n",
       "    </tr>\n",
       "    <tr>\n",
       "      <th>50%</th>\n",
       "      <td>2020.000000</td>\n",
       "      <td>7.800000</td>\n",
       "    </tr>\n",
       "    <tr>\n",
       "      <th>75%</th>\n",
       "      <td>2023.000000</td>\n",
       "      <td>8.300000</td>\n",
       "    </tr>\n",
       "    <tr>\n",
       "      <th>max</th>\n",
       "      <td>2024.000000</td>\n",
       "      <td>9.500000</td>\n",
       "    </tr>\n",
       "  </tbody>\n",
       "</table>\n",
       "</div>"
      ],
      "text/plain": [
       "       Release Year  IMDb Rating\n",
       "count    970.000000   938.000000\n",
       "mean    2017.118557     7.499574\n",
       "std        8.006278     1.167379\n",
       "min     1962.000000     2.000000\n",
       "25%     2015.000000     7.000000\n",
       "50%     2020.000000     7.800000\n",
       "75%     2023.000000     8.300000\n",
       "max     2024.000000     9.500000"
      ]
     },
     "execution_count": 11,
     "metadata": {},
     "output_type": "execute_result"
    }
   ],
   "source": [
    "# statistical summary about dataset\n",
    "df.describe()"
   ]
  },
  {
   "cell_type": "code",
   "execution_count": 12,
   "metadata": {},
   "outputs": [
    {
     "data": {
      "text/html": [
       "<div>\n",
       "<style scoped>\n",
       "    .dataframe tbody tr th:only-of-type {\n",
       "        vertical-align: middle;\n",
       "    }\n",
       "\n",
       "    .dataframe tbody tr th {\n",
       "        vertical-align: top;\n",
       "    }\n",
       "\n",
       "    .dataframe thead th {\n",
       "        text-align: right;\n",
       "    }\n",
       "</style>\n",
       "<table border=\"1\" class=\"dataframe\">\n",
       "  <thead>\n",
       "    <tr style=\"text-align: right;\">\n",
       "      <th></th>\n",
       "      <th>Movie Title</th>\n",
       "      <th>Release Year</th>\n",
       "      <th>IMDb Rating</th>\n",
       "      <th>Movie Link</th>\n",
       "      <th>Stream</th>\n",
       "    </tr>\n",
       "  </thead>\n",
       "  <tbody>\n",
       "    <tr>\n",
       "      <th>23</th>\n",
       "      <td>Fargo</td>\n",
       "      <td>2014</td>\n",
       "      <td>8.9</td>\n",
       "      <td>/in/tv-show/fargo</td>\n",
       "      <td>NaN</td>\n",
       "    </tr>\n",
       "    <tr>\n",
       "      <th>29</th>\n",
       "      <td>Mastram</td>\n",
       "      <td>2020</td>\n",
       "      <td>7.1</td>\n",
       "      <td>/in/tv-show/mastram</td>\n",
       "      <td>NaN</td>\n",
       "    </tr>\n",
       "    <tr>\n",
       "      <th>35</th>\n",
       "      <td>Love Never Lies: Poland</td>\n",
       "      <td>2022</td>\n",
       "      <td>NaN</td>\n",
       "      <td>/in/tv-show/love-never-lies-poland</td>\n",
       "      <td>Netflix</td>\n",
       "    </tr>\n",
       "    <tr>\n",
       "      <th>48</th>\n",
       "      <td>ted</td>\n",
       "      <td>2024</td>\n",
       "      <td>8.0</td>\n",
       "      <td>/in/tv-show/ted</td>\n",
       "      <td>NaN</td>\n",
       "    </tr>\n",
       "    <tr>\n",
       "      <th>50</th>\n",
       "      <td>Hanu-Man</td>\n",
       "      <td>2024</td>\n",
       "      <td>8.5</td>\n",
       "      <td>/in/movie/hanu-man</td>\n",
       "      <td>NaN</td>\n",
       "    </tr>\n",
       "    <tr>\n",
       "      <th>...</th>\n",
       "      <td>...</td>\n",
       "      <td>...</td>\n",
       "      <td>...</td>\n",
       "      <td>...</td>\n",
       "      <td>...</td>\n",
       "    </tr>\n",
       "    <tr>\n",
       "      <th>955</th>\n",
       "      <td>The Handmaid's Tale</td>\n",
       "      <td>2017</td>\n",
       "      <td>8.4</td>\n",
       "      <td>/in/tv-show/the-handmaids-tale</td>\n",
       "      <td>NaN</td>\n",
       "    </tr>\n",
       "    <tr>\n",
       "      <th>957</th>\n",
       "      <td>And Then There Were None</td>\n",
       "      <td>2015</td>\n",
       "      <td>7.8</td>\n",
       "      <td>/in/tv-show/and-then-there-were-none</td>\n",
       "      <td>NaN</td>\n",
       "    </tr>\n",
       "    <tr>\n",
       "      <th>960</th>\n",
       "      <td>Frosty the Snowman</td>\n",
       "      <td>1969</td>\n",
       "      <td>7.3</td>\n",
       "      <td>/in/movie/frosty-the-snowman</td>\n",
       "      <td>NaN</td>\n",
       "    </tr>\n",
       "    <tr>\n",
       "      <th>962</th>\n",
       "      <td>CAT</td>\n",
       "      <td>2022</td>\n",
       "      <td>NaN</td>\n",
       "      <td>/in/tv-show/cat</td>\n",
       "      <td>Netflix</td>\n",
       "    </tr>\n",
       "    <tr>\n",
       "      <th>965</th>\n",
       "      <td>Hridayam</td>\n",
       "      <td>2022</td>\n",
       "      <td>8.1</td>\n",
       "      <td>/in/movie/hridayam</td>\n",
       "      <td>NaN</td>\n",
       "    </tr>\n",
       "  </tbody>\n",
       "</table>\n",
       "<p>178 rows × 5 columns</p>\n",
       "</div>"
      ],
      "text/plain": [
       "                  Movie Title  Release Year  IMDb Rating  \\\n",
       "23                      Fargo          2014          8.9   \n",
       "29                    Mastram          2020          7.1   \n",
       "35    Love Never Lies: Poland          2022          NaN   \n",
       "48                        ted          2024          8.0   \n",
       "50                   Hanu-Man          2024          8.5   \n",
       "..                        ...           ...          ...   \n",
       "955       The Handmaid's Tale          2017          8.4   \n",
       "957  And Then There Were None          2015          7.8   \n",
       "960        Frosty the Snowman          1969          7.3   \n",
       "962                       CAT          2022          NaN   \n",
       "965                  Hridayam          2022          8.1   \n",
       "\n",
       "                               Movie Link   Stream  \n",
       "23                      /in/tv-show/fargo      NaN  \n",
       "29                    /in/tv-show/mastram      NaN  \n",
       "35     /in/tv-show/love-never-lies-poland  Netflix  \n",
       "48                        /in/tv-show/ted      NaN  \n",
       "50                     /in/movie/hanu-man      NaN  \n",
       "..                                    ...      ...  \n",
       "955        /in/tv-show/the-handmaids-tale      NaN  \n",
       "957  /in/tv-show/and-then-there-were-none      NaN  \n",
       "960          /in/movie/frosty-the-snowman      NaN  \n",
       "962                       /in/tv-show/cat  Netflix  \n",
       "965                    /in/movie/hridayam      NaN  \n",
       "\n",
       "[178 rows x 5 columns]"
      ]
     },
     "execution_count": 12,
     "metadata": {},
     "output_type": "execute_result"
    }
   ],
   "source": [
    "missing_values_df = df[df.isna().any(axis=1)]\n",
    "missing_values_df"
   ]
  },
  {
   "cell_type": "code",
   "execution_count": 13,
   "metadata": {},
   "outputs": [
    {
     "data": {
      "text/plain": [
       "<Axes: >"
      ]
     },
     "execution_count": 13,
     "metadata": {},
     "output_type": "execute_result"
    },
    {
     "data": {
      "image/png": "[encoded data removed]",
      "text/plain": [
       "<Figure size 800x600 with 1 Axes>"
      ]
     },
     "metadata": {},
     "output_type": "display_data"
    }
   ],
   "source": [
    "# Visualising mising values with heatmap \n",
    "\n",
    "plt.figure(figsize=(8, 6))\n",
    "sns.heatmap(df.isnull(), cmap='viridis', cbar=False)"
   ]
  },
  {
   "cell_type": "code",
   "execution_count": 14,
   "metadata": {},
   "outputs": [
    {
     "data": {
      "text/html": [
       "<div>\n",
       "<style scoped>\n",
       "    .dataframe tbody tr th:only-of-type {\n",
       "        vertical-align: middle;\n",
       "    }\n",
       "\n",
       "    .dataframe tbody tr th {\n",
       "        vertical-align: top;\n",
       "    }\n",
       "\n",
       "    .dataframe thead th {\n",
       "        text-align: right;\n",
       "    }\n",
       "</style>\n",
       "<table border=\"1\" class=\"dataframe\">\n",
       "  <thead>\n",
       "    <tr style=\"text-align: right;\">\n",
       "      <th></th>\n",
       "      <th>Movie Title</th>\n",
       "      <th>Release Year</th>\n",
       "      <th>IMDb Rating</th>\n",
       "      <th>Movie Link</th>\n",
       "      <th>Stream</th>\n",
       "    </tr>\n",
       "  </thead>\n",
       "  <tbody>\n",
       "    <tr>\n",
       "      <th>234</th>\n",
       "      <td>Ek Mahanayak - Dr B R Ambedkar</td>\n",
       "      <td>2019</td>\n",
       "      <td>7.5</td>\n",
       "      <td>/in/tv-show/ek-mahanayak-dr-b-r-ambedkar</td>\n",
       "      <td>Zee5</td>\n",
       "    </tr>\n",
       "  </tbody>\n",
       "</table>\n",
       "</div>"
      ],
      "text/plain": [
       "                        Movie Title  Release Year  IMDb Rating  \\\n",
       "234  Ek Mahanayak - Dr B R Ambedkar          2019          7.5   \n",
       "\n",
       "                                   Movie Link Stream  \n",
       "234  /in/tv-show/ek-mahanayak-dr-b-r-ambedkar   Zee5  "
      ]
     },
     "execution_count": 14,
     "metadata": {},
     "output_type": "execute_result"
    }
   ],
   "source": [
    "# randomly inspecting data\n",
    "df.sample()"
   ]
  },
  {
   "cell_type": "code",
   "execution_count": 15,
   "metadata": {},
   "outputs": [
    {
     "data": {
      "text/plain": [
       "0"
      ]
     },
     "execution_count": 15,
     "metadata": {},
     "output_type": "execute_result"
    }
   ],
   "source": [
    "df['Release Year'].isna().sum()"
   ]
  },
  {
   "cell_type": "markdown",
   "metadata": {},
   "source": [
    "## a. Data filtering "
   ]
  },
  {
   "cell_type": "markdown",
   "metadata": {},
   "source": [
    " - Only include movies and TV shows released in the last 2 years (from the current date)."
   ]
  },
  {
   "cell_type": "code",
   "execution_count": 16,
   "metadata": {},
   "outputs": [
    {
     "data": {
      "text/plain": [
       "2024"
      ]
     },
     "execution_count": 16,
     "metadata": {},
     "output_type": "execute_result"
    }
   ],
   "source": [
    "current_year = pd.Timestamp.now().year\n",
    "current_year"
   ]
  },
  {
   "cell_type": "code",
   "execution_count": 17,
   "metadata": {},
   "outputs": [],
   "source": [
    "# Get the current year\n",
    "current_year = pd.Timestamp.now().year \n",
    "\n",
    "# Calculate the year 2 years ago from the current year\n",
    "two_years_ago_year = current_year - 2\n",
    "\n",
    "date_filtered_df = df[df['Release Year']>two_years_ago_year]\n"
   ]
  },
  {
   "cell_type": "code",
   "execution_count": 18,
   "metadata": {},
   "outputs": [
    {
     "data": {
      "text/html": [
       "<div>\n",
       "<style scoped>\n",
       "    .dataframe tbody tr th:only-of-type {\n",
       "        vertical-align: middle;\n",
       "    }\n",
       "\n",
       "    .dataframe tbody tr th {\n",
       "        vertical-align: top;\n",
       "    }\n",
       "\n",
       "    .dataframe thead th {\n",
       "        text-align: right;\n",
       "    }\n",
       "</style>\n",
       "<table border=\"1\" class=\"dataframe\">\n",
       "  <thead>\n",
       "    <tr style=\"text-align: right;\">\n",
       "      <th></th>\n",
       "      <th>Movie Title</th>\n",
       "      <th>Release Year</th>\n",
       "      <th>IMDb Rating</th>\n",
       "      <th>Movie Link</th>\n",
       "      <th>Stream</th>\n",
       "    </tr>\n",
       "  </thead>\n",
       "  <tbody>\n",
       "    <tr>\n",
       "      <th>672</th>\n",
       "      <td>Half CA</td>\n",
       "      <td>2023</td>\n",
       "      <td>8.4</td>\n",
       "      <td>/in/tv-show/half-ca</td>\n",
       "      <td>Amazon miniTV</td>\n",
       "    </tr>\n",
       "    <tr>\n",
       "      <th>193</th>\n",
       "      <td>Sengoku Youko</td>\n",
       "      <td>2024</td>\n",
       "      <td>7.7</td>\n",
       "      <td>/in/tv-show/sengoku-youko</td>\n",
       "      <td>Netflix</td>\n",
       "    </tr>\n",
       "    <tr>\n",
       "      <th>663</th>\n",
       "      <td>Badi Heroine Banti Hai</td>\n",
       "      <td>2024</td>\n",
       "      <td>7.9</td>\n",
       "      <td>/in/tv-show/badi-heroine-banti-hai</td>\n",
       "      <td>Amazon miniTV</td>\n",
       "    </tr>\n",
       "    <tr>\n",
       "      <th>1</th>\n",
       "      <td>Indian Police Force</td>\n",
       "      <td>2024</td>\n",
       "      <td>6.0</td>\n",
       "      <td>/in/tv-show/indian-police-force</td>\n",
       "      <td>Amazon Prime Video</td>\n",
       "    </tr>\n",
       "    <tr>\n",
       "      <th>201</th>\n",
       "      <td>The Family Plan</td>\n",
       "      <td>2023</td>\n",
       "      <td>6.3</td>\n",
       "      <td>/in/movie/the-family-plan</td>\n",
       "      <td>Apple TV Plus</td>\n",
       "    </tr>\n",
       "  </tbody>\n",
       "</table>\n",
       "</div>"
      ],
      "text/plain": [
       "                Movie Title  Release Year  IMDb Rating  \\\n",
       "672                 Half CA          2023          8.4   \n",
       "193           Sengoku Youko          2024          7.7   \n",
       "663  Badi Heroine Banti Hai          2024          7.9   \n",
       "1       Indian Police Force          2024          6.0   \n",
       "201         The Family Plan          2023          6.3   \n",
       "\n",
       "                             Movie Link              Stream  \n",
       "672                 /in/tv-show/half-ca       Amazon miniTV  \n",
       "193           /in/tv-show/sengoku-youko             Netflix  \n",
       "663  /in/tv-show/badi-heroine-banti-hai       Amazon miniTV  \n",
       "1       /in/tv-show/indian-police-force  Amazon Prime Video  \n",
       "201           /in/movie/the-family-plan       Apple TV Plus  "
      ]
     },
     "execution_count": 18,
     "metadata": {},
     "output_type": "execute_result"
    }
   ],
   "source": [
    "date_filtered_df.sample(5)"
   ]
  },
  {
   "cell_type": "markdown",
   "metadata": {},
   "source": [
    "- Only include movies and TV shows with an IMDb rating of 7 or higher."
   ]
  },
  {
   "cell_type": "code",
   "execution_count": 19,
   "metadata": {},
   "outputs": [],
   "source": [
    "filtered_df = date_filtered_df[date_filtered_df['IMDb Rating']>=7]"
   ]
  },
  {
   "cell_type": "code",
   "execution_count": 20,
   "metadata": {},
   "outputs": [
    {
     "data": {
      "text/html": [
       "<div>\n",
       "<style scoped>\n",
       "    .dataframe tbody tr th:only-of-type {\n",
       "        vertical-align: middle;\n",
       "    }\n",
       "\n",
       "    .dataframe tbody tr th {\n",
       "        vertical-align: top;\n",
       "    }\n",
       "\n",
       "    .dataframe thead th {\n",
       "        text-align: right;\n",
       "    }\n",
       "</style>\n",
       "<table border=\"1\" class=\"dataframe\">\n",
       "  <thead>\n",
       "    <tr style=\"text-align: right;\">\n",
       "      <th></th>\n",
       "      <th>Movie Title</th>\n",
       "      <th>Release Year</th>\n",
       "      <th>IMDb Rating</th>\n",
       "      <th>Movie Link</th>\n",
       "      <th>Stream</th>\n",
       "    </tr>\n",
       "  </thead>\n",
       "  <tbody>\n",
       "    <tr>\n",
       "      <th>7</th>\n",
       "      <td>Solo Leveling</td>\n",
       "      <td>2024</td>\n",
       "      <td>8.4</td>\n",
       "      <td>/in/tv-show/solo-leveling-2024</td>\n",
       "      <td>Crunchyroll</td>\n",
       "    </tr>\n",
       "    <tr>\n",
       "      <th>9</th>\n",
       "      <td>12th Fail</td>\n",
       "      <td>2023</td>\n",
       "      <td>9.2</td>\n",
       "      <td>/in/movie/12th-fail</td>\n",
       "      <td>Hotstar, Bookmyshow</td>\n",
       "    </tr>\n",
       "    <tr>\n",
       "      <th>11</th>\n",
       "      <td>Death and Other Details</td>\n",
       "      <td>2024</td>\n",
       "      <td>7.0</td>\n",
       "      <td>/in/tv-show/death-and-other-details</td>\n",
       "      <td>Hotstar</td>\n",
       "    </tr>\n",
       "    <tr>\n",
       "      <th>17</th>\n",
       "      <td>Farzi</td>\n",
       "      <td>2023</td>\n",
       "      <td>8.4</td>\n",
       "      <td>/in/tv-show/farzi</td>\n",
       "      <td>Amazon Prime Video</td>\n",
       "    </tr>\n",
       "    <tr>\n",
       "      <th>19</th>\n",
       "      <td>Berlin</td>\n",
       "      <td>2023</td>\n",
       "      <td>7.0</td>\n",
       "      <td>/in/tv-show/berlin</td>\n",
       "      <td>Netflix</td>\n",
       "    </tr>\n",
       "    <tr>\n",
       "      <th>...</th>\n",
       "      <td>...</td>\n",
       "      <td>...</td>\n",
       "      <td>...</td>\n",
       "      <td>...</td>\n",
       "      <td>...</td>\n",
       "    </tr>\n",
       "    <tr>\n",
       "      <th>882</th>\n",
       "      <td>The Woman in the Wall</td>\n",
       "      <td>2023</td>\n",
       "      <td>7.2</td>\n",
       "      <td>/in/tv-show/the-woman-in-the-wall</td>\n",
       "      <td>NaN</td>\n",
       "    </tr>\n",
       "    <tr>\n",
       "      <th>899</th>\n",
       "      <td>Sleep Call</td>\n",
       "      <td>2023</td>\n",
       "      <td>7.3</td>\n",
       "      <td>/in/movie/sleep-call</td>\n",
       "      <td>Amazon Prime Video</td>\n",
       "    </tr>\n",
       "    <tr>\n",
       "      <th>912</th>\n",
       "      <td>Dungeons &amp; Dragons: Honor Among Thieves</td>\n",
       "      <td>2023</td>\n",
       "      <td>7.3</td>\n",
       "      <td>/in/movie/dungeons-and-dragons-2023</td>\n",
       "      <td>Amazon Prime Video, Amazon Video, Apple TV</td>\n",
       "    </tr>\n",
       "    <tr>\n",
       "      <th>925</th>\n",
       "      <td>Teri Baaton Mein Aisa Uljha Jiya</td>\n",
       "      <td>2024</td>\n",
       "      <td>7.4</td>\n",
       "      <td>/in/movie/untitled-shahid-kapoor-kriti-sanon-film</td>\n",
       "      <td>Bookmyshow</td>\n",
       "    </tr>\n",
       "    <tr>\n",
       "      <th>942</th>\n",
       "      <td>The Adventures of LLeo</td>\n",
       "      <td>2023</td>\n",
       "      <td>8.0</td>\n",
       "      <td>/in/tv-show/the-adventures-of-lleo</td>\n",
       "      <td>Amazon miniTV</td>\n",
       "    </tr>\n",
       "  </tbody>\n",
       "</table>\n",
       "<p>174 rows × 5 columns</p>\n",
       "</div>"
      ],
      "text/plain": [
       "                                 Movie Title  Release Year  IMDb Rating  \\\n",
       "7                              Solo Leveling          2024          8.4   \n",
       "9                                  12th Fail          2023          9.2   \n",
       "11                   Death and Other Details          2024          7.0   \n",
       "17                                     Farzi          2023          8.4   \n",
       "19                                    Berlin          2023          7.0   \n",
       "..                                       ...           ...          ...   \n",
       "882                    The Woman in the Wall          2023          7.2   \n",
       "899                               Sleep Call          2023          7.3   \n",
       "912  Dungeons & Dragons: Honor Among Thieves          2023          7.3   \n",
       "925         Teri Baaton Mein Aisa Uljha Jiya          2024          7.4   \n",
       "942                   The Adventures of LLeo          2023          8.0   \n",
       "\n",
       "                                            Movie Link  \\\n",
       "7                       /in/tv-show/solo-leveling-2024   \n",
       "9                                  /in/movie/12th-fail   \n",
       "11                 /in/tv-show/death-and-other-details   \n",
       "17                                   /in/tv-show/farzi   \n",
       "19                                  /in/tv-show/berlin   \n",
       "..                                                 ...   \n",
       "882                  /in/tv-show/the-woman-in-the-wall   \n",
       "899                               /in/movie/sleep-call   \n",
       "912                /in/movie/dungeons-and-dragons-2023   \n",
       "925  /in/movie/untitled-shahid-kapoor-kriti-sanon-film   \n",
       "942                 /in/tv-show/the-adventures-of-lleo   \n",
       "\n",
       "                                         Stream  \n",
       "7                                   Crunchyroll  \n",
       "9                           Hotstar, Bookmyshow  \n",
       "11                                      Hotstar  \n",
       "17                           Amazon Prime Video  \n",
       "19                                      Netflix  \n",
       "..                                          ...  \n",
       "882                                         NaN  \n",
       "899                          Amazon Prime Video  \n",
       "912  Amazon Prime Video, Amazon Video, Apple TV  \n",
       "925                                  Bookmyshow  \n",
       "942                               Amazon miniTV  \n",
       "\n",
       "[174 rows x 5 columns]"
      ]
     },
     "execution_count": 20,
     "metadata": {},
     "output_type": "execute_result"
    }
   ],
   "source": [
    "filtered_df"
   ]
  },
  {
   "cell_type": "markdown",
   "metadata": {},
   "source": [
    "## b. Data Analysis:"
   ]
  },
  {
   "cell_type": "markdown",
   "metadata": {},
   "source": [
    "- Calculate the average IMDb rating for the scraped movies and TV shows.\n",
    "      "
   ]
  },
  {
   "cell_type": "code",
   "execution_count": 21,
   "metadata": {},
   "outputs": [
    {
     "name": "stdout",
     "output_type": "stream",
     "text": [
      "Average IMDB Rating for scrapped movies: 7.5\n"
     ]
    }
   ],
   "source": [
    "avg_imdb_rating = df['IMDb Rating'].mean()\n",
    "print(f\"Average IMDB Rating for scrapped movies: {round(avg_imdb_rating,2)}\")"
   ]
  },
  {
   "cell_type": "markdown",
   "metadata": {},
   "source": [
    "- Identify the top 5 movies that have the Highest IMDB rating"
   ]
  },
  {
   "cell_type": "code",
   "execution_count": 22,
   "metadata": {},
   "outputs": [
    {
     "data": {
      "text/html": [
       "<div>\n",
       "<style scoped>\n",
       "    .dataframe tbody tr th:only-of-type {\n",
       "        vertical-align: middle;\n",
       "    }\n",
       "\n",
       "    .dataframe tbody tr th {\n",
       "        vertical-align: top;\n",
       "    }\n",
       "\n",
       "    .dataframe thead th {\n",
       "        text-align: right;\n",
       "    }\n",
       "</style>\n",
       "<table border=\"1\" class=\"dataframe\">\n",
       "  <thead>\n",
       "    <tr style=\"text-align: right;\">\n",
       "      <th></th>\n",
       "      <th>Movie Title</th>\n",
       "      <th>IMDb Rating</th>\n",
       "    </tr>\n",
       "  </thead>\n",
       "  <tbody>\n",
       "    <tr>\n",
       "      <th>46</th>\n",
       "      <td>Breaking Bad</td>\n",
       "      <td>9.5</td>\n",
       "    </tr>\n",
       "    <tr>\n",
       "      <th>203</th>\n",
       "      <td>Band of Brothers</td>\n",
       "      <td>9.4</td>\n",
       "    </tr>\n",
       "    <tr>\n",
       "      <th>685</th>\n",
       "      <td>Bluey</td>\n",
       "      <td>9.4</td>\n",
       "    </tr>\n",
       "    <tr>\n",
       "      <th>500</th>\n",
       "      <td>Devon Ke Dev...Mahadev</td>\n",
       "      <td>9.3</td>\n",
       "    </tr>\n",
       "    <tr>\n",
       "      <th>156</th>\n",
       "      <td>Chernobyl</td>\n",
       "      <td>9.3</td>\n",
       "    </tr>\n",
       "  </tbody>\n",
       "</table>\n",
       "</div>"
      ],
      "text/plain": [
       "                Movie Title  IMDb Rating\n",
       "46             Breaking Bad          9.5\n",
       "203        Band of Brothers          9.4\n",
       "685                   Bluey          9.4\n",
       "500  Devon Ke Dev...Mahadev          9.3\n",
       "156               Chernobyl          9.3"
      ]
     },
     "execution_count": 22,
     "metadata": {},
     "output_type": "execute_result"
    }
   ],
   "source": [
    "top_5_movies_by_Imdb_rating = df.sort_values(by = 'IMDb Rating',ascending=False).head()\n",
    "top_5_movies_by_Imdb_rating[['Movie Title','IMDb Rating']]"
   ]
  },
  {
   "cell_type": "markdown",
   "metadata": {},
   "source": [
    "- Determine the streaming service with the most significant number of offerings."
   ]
  },
  {
   "cell_type": "code",
   "execution_count": 23,
   "metadata": {},
   "outputs": [
    {
     "name": "stdout",
     "output_type": "stream",
     "text": [
      "The streaming service with the most significant number of offerings is 'Netflix' with 264 offerings.\n"
     ]
    }
   ],
   "source": [
    "# Split entries in the 'Stream' column into individual streaming services\n",
    "stream_list = df['Stream'].str.split(', ')\n",
    "\n",
    "# Flatten the list of streaming services\n",
    "stream_flat_list = [stream for sublist in stream_list.dropna() for stream in sublist]\n",
    "\n",
    "# Count the occurrences of each streaming service\n",
    "stream_counts = pd.Series(stream_flat_list).value_counts()\n",
    "\n",
    "# Determine the streaming service with the most significant number of offerings\n",
    "most_common_service = stream_counts.idxmax()\n",
    "number_of_offerings = stream_counts.max()\n",
    "\n",
    "print(f\"The streaming service with the most significant number of offerings is '{most_common_service}' with {number_of_offerings} offerings.\")\n"
   ]
  },
  {
   "cell_type": "code",
   "execution_count": 24,
   "metadata": {},
   "outputs": [
    {
     "data": {
      "image/png": "[encoded data removed]",
      "text/plain": [
       "<Figure size 1000x600 with 1 Axes>"
      ]
     },
     "metadata": {},
     "output_type": "display_data"
    }
   ],
   "source": [
    "\n",
    "\n",
    "plt.figure(figsize=(10, 6))\n",
    "sns.barplot(stream_counts)\n",
    "plt.title('Number of Offerings by Streaming Service')\n",
    "plt.xlabel('Streaming Service')\n",
    "plt.ylabel('Number of Offerings')\n",
    "plt.xticks(rotation=45, ha='right')\n",
    "plt.tight_layout()\n",
    "plt.show()"
   ]
  },
  {
   "cell_type": "markdown",
   "metadata": {},
   "source": [
    "- top 10 release years"
   ]
  },
  {
   "cell_type": "code",
   "execution_count": 25,
   "metadata": {},
   "outputs": [
    {
     "data": {
      "image/png": "[encoded data removed]",
      "text/plain": [
       "<Figure size 1000x600 with 1 Axes>"
      ]
     },
     "metadata": {},
     "output_type": "display_data"
    }
   ],
   "source": [
    "\n",
    "# Get the top 10 release years and their counts\n",
    "top_10_release_years = df['Release Year'].value_counts().nlargest(10).index\n",
    "\n",
    "# Filter the DataFrame to include only the top 10 release years\n",
    "df_top_10 = df[df['Release Year'].isin(top_10_release_years)]\n",
    "\n",
    "# Calculate the count of releases for each year\n",
    "release_year_counts = df_top_10['Release Year'].value_counts()\n",
    "\n",
    "# Sort the counts in descending order and get the index\n",
    "sorted_index = release_year_counts.sort_values(ascending=False).index\n",
    "\n",
    "\n",
    "\n",
    "# Set the figure size\n",
    "plt.figure(figsize=(10, 6))\n",
    "\n",
    "# Create count plot for the top 10 release years\n",
    "sns.countplot(x='Release Year', data=df_top_10,order=sorted_index, hue='Release Year')\n",
    "\n",
    "# Rotate x-axis labels for better readability\n",
    "plt.xticks(rotation=45)\n",
    "\n",
    "# Add labels and title\n",
    "plt.xlabel('Release Year')\n",
    "plt.ylabel('Count')\n",
    "plt.title('Count of Releases per Year (Top 10)')\n",
    "\n",
    "# Show plot\n",
    "plt.tight_layout()\n",
    "plt.show()\n"
   ]
  },
  {
   "cell_type": "code",
   "execution_count": 26,
   "metadata": {},
   "outputs": [],
   "source": [
    "df.to_csv('cleaned_movie_data.csv', index=False)\n"
   ]
  },
  {
   "cell_type": "markdown",
   "metadata": {},
   "source": [
    "\n",
    "\n",
    "🎬 **Conclusion:**\n",
    "\n",
    "📊 **Data Overview:**\n",
    "- The dataset contains 970 entries of movies scraped from JustWatch.\n",
    "- Data cleaning and processing addressed missing IMDb ratings (32) and streaming service values (151), resulting in a clean dataset.\n",
    "- No duplicate rows were found in the dataset.\n",
    "\n",
    "🔍 **Data Filtering:**\n",
    "- Included only movies released in the last two years and with an IMDb rating of 7 or higher.\n",
    "\n",
    "📈 **Data Analysis:**\n",
    "- Calculated the average IMDb rating for the scraped movies, resulting in an average rating of 7.5.\n",
    "- Identified the top 5 movies with the highest IMDb ratings, showcasing popular titles.\n",
    "- Determined that 'Netflix' had the most significant number of offerings among the scraped movies.\n",
    "- Explored the distribution of movie releases over the years, highlighting the top 10 release years.\n",
    "\n",
    "🔍 **Insights:**\n",
    "- The analysis provides insights into movie ratings, streaming services, and release trends, which can inform decision-making in the entertainment industry.\n",
    "\n",
    "📝 **Overall:**\n",
    "- This project involved scraping, cleaning, and analyzing movie data from JustWatch, offering valuable insights for stakeholders in the movie industry."
   ]
  }
 ],
 "metadata": {
  "kernelspec": {
   "display_name": "Python 3",
   "language": "python",
   "name": "python3"
  },
  "language_info": {
   "codemirror_mode": {
    "name": "ipython",
    "version": 3
   },
   "file_extension": ".py",
   "mimetype": "text/x-python",
   "name": "python",
   "nbconvert_exporter": "python",
   "pygments_lexer": "ipython3",
   "version": "3.11.0"
  }
 },
 "nbformat": 4,
 "nbformat_minor": 2
}
