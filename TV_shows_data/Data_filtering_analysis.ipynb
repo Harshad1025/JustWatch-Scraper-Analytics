{
 "cells": [
  {
   "cell_type": "markdown",
   "metadata": {},
   "source": [
    "import neccesory libraries"
   ]
  },
  {
   "cell_type": "markdown",
   "metadata": {},
   "source": []
  },
  {
   "cell_type": "code",
   "execution_count": 1,
   "metadata": {},
   "outputs": [],
   "source": [
    "import pandas as pd \n",
    "import numpy as np \n",
    "import scipy.stats as stat\n",
    "import re\n",
    "import seaborn as sns\n",
    "import matplotlib.pyplot as plt \n",
    "\n"
   ]
  },
  {
   "cell_type": "code",
   "execution_count": 5,
   "metadata": {},
   "outputs": [],
   "source": [
    "# load the scrapped dataset \n",
    "df = pd.read_csv('https://raw.githubusercontent.com/Harshad1025/JustWatch-Scraper-Analytics/master/TV_shows_data/Tvshows_data.csv')"
   ]
  },
  {
   "cell_type": "code",
   "execution_count": 6,
   "metadata": {},
   "outputs": [
    {
     "data": {
      "text/plain": [
       "(135, 5)"
      ]
     },
     "execution_count": 6,
     "metadata": {},
     "output_type": "execute_result"
    }
   ],
   "source": [
    "df.shape"
   ]
  },
  {
   "cell_type": "code",
   "execution_count": 7,
   "metadata": {},
   "outputs": [
    {
     "data": {
      "text/html": [
       "<div>\n",
       "<style scoped>\n",
       "    .dataframe tbody tr th:only-of-type {\n",
       "        vertical-align: middle;\n",
       "    }\n",
       "\n",
       "    .dataframe tbody tr th {\n",
       "        vertical-align: top;\n",
       "    }\n",
       "\n",
       "    .dataframe thead th {\n",
       "        text-align: right;\n",
       "    }\n",
       "</style>\n",
       "<table border=\"1\" class=\"dataframe\">\n",
       "  <thead>\n",
       "    <tr style=\"text-align: right;\">\n",
       "      <th></th>\n",
       "      <th>Show Title</th>\n",
       "      <th>Release Year</th>\n",
       "      <th>IMDb Rating</th>\n",
       "      <th>Show Link</th>\n",
       "      <th>Stream</th>\n",
       "    </tr>\n",
       "  </thead>\n",
       "  <tbody>\n",
       "    <tr>\n",
       "      <th>0</th>\n",
       "      <td>Scream: The TV Series</td>\n",
       "      <td>(2015)</td>\n",
       "      <td>7.0</td>\n",
       "      <td>/in/tv-show/scream</td>\n",
       "      <td>NaN</td>\n",
       "    </tr>\n",
       "    <tr>\n",
       "      <th>1</th>\n",
       "      <td>The King of TV</td>\n",
       "      <td>(2022)</td>\n",
       "      <td>7.4</td>\n",
       "      <td>/in/tv-show/the-king-of-tv</td>\n",
       "      <td>NaN</td>\n",
       "    </tr>\n",
       "    <tr>\n",
       "      <th>2</th>\n",
       "      <td>Network</td>\n",
       "      <td>(1976)</td>\n",
       "      <td>8.1</td>\n",
       "      <td>/in/movie/network</td>\n",
       "      <td>Amazon Prime Video, Amazon Video, Apple TV</td>\n",
       "    </tr>\n",
       "    <tr>\n",
       "      <th>3</th>\n",
       "      <td>Daniel Sloss: Live Shows</td>\n",
       "      <td>(2018)</td>\n",
       "      <td>8.5</td>\n",
       "      <td>/in/tv-show/daniel-sloss-live-shows</td>\n",
       "      <td>Netflix</td>\n",
       "    </tr>\n",
       "    <tr>\n",
       "      <th>4</th>\n",
       "      <td>Loki</td>\n",
       "      <td>(2021)</td>\n",
       "      <td>8.2</td>\n",
       "      <td>/in/tv-show/loki</td>\n",
       "      <td>Hotstar</td>\n",
       "    </tr>\n",
       "  </tbody>\n",
       "</table>\n",
       "</div>"
      ],
      "text/plain": [
       "                 Show Title Release Year  IMDb Rating  \\\n",
       "0     Scream: The TV Series       (2015)          7.0   \n",
       "1            The King of TV       (2022)          7.4   \n",
       "2                   Network       (1976)          8.1   \n",
       "3  Daniel Sloss: Live Shows       (2018)          8.5   \n",
       "4                      Loki       (2021)          8.2   \n",
       "\n",
       "                             Show Link  \\\n",
       "0                   /in/tv-show/scream   \n",
       "1           /in/tv-show/the-king-of-tv   \n",
       "2                    /in/movie/network   \n",
       "3  /in/tv-show/daniel-sloss-live-shows   \n",
       "4                     /in/tv-show/loki   \n",
       "\n",
       "                                       Stream  \n",
       "0                                         NaN  \n",
       "1                                         NaN  \n",
       "2  Amazon Prime Video, Amazon Video, Apple TV  \n",
       "3                                     Netflix  \n",
       "4                                     Hotstar  "
      ]
     },
     "execution_count": 7,
     "metadata": {},
     "output_type": "execute_result"
    }
   ],
   "source": [
    "# first view of data set\n",
    "df.head()"
   ]
  },
  {
   "cell_type": "code",
   "execution_count": 11,
   "metadata": {},
   "outputs": [
    {
     "data": {
      "text/html": [
       "<div>\n",
       "<style scoped>\n",
       "    .dataframe tbody tr th:only-of-type {\n",
       "        vertical-align: middle;\n",
       "    }\n",
       "\n",
       "    .dataframe tbody tr th {\n",
       "        vertical-align: top;\n",
       "    }\n",
       "\n",
       "    .dataframe thead th {\n",
       "        text-align: right;\n",
       "    }\n",
       "</style>\n",
       "<table border=\"1\" class=\"dataframe\">\n",
       "  <thead>\n",
       "    <tr style=\"text-align: right;\">\n",
       "      <th></th>\n",
       "      <th>Show Title</th>\n",
       "      <th>Release Year</th>\n",
       "      <th>IMDb Rating</th>\n",
       "      <th>Show Link</th>\n",
       "      <th>Stream</th>\n",
       "    </tr>\n",
       "  </thead>\n",
       "  <tbody>\n",
       "    <tr>\n",
       "      <th>130</th>\n",
       "      <td>Hawkeye</td>\n",
       "      <td>(2021)</td>\n",
       "      <td>7.5</td>\n",
       "      <td>/in/tv-show/hawkeye-2021</td>\n",
       "      <td>Hotstar</td>\n",
       "    </tr>\n",
       "    <tr>\n",
       "      <th>131</th>\n",
       "      <td>BLACK AND WHITE TV</td>\n",
       "      <td>(2019)</td>\n",
       "      <td>NaN</td>\n",
       "      <td>/in/movie/black-and-white-tv</td>\n",
       "      <td>NaN</td>\n",
       "    </tr>\n",
       "    <tr>\n",
       "      <th>132</th>\n",
       "      <td>Kemurikusa</td>\n",
       "      <td>(2019)</td>\n",
       "      <td>6.7</td>\n",
       "      <td>/in/tv-show/kemurikusa</td>\n",
       "      <td>Amazon Prime Video</td>\n",
       "    </tr>\n",
       "    <tr>\n",
       "      <th>133</th>\n",
       "      <td>Little Manhattan</td>\n",
       "      <td>(2005)</td>\n",
       "      <td>7.4</td>\n",
       "      <td>/in/movie/little-manhattan</td>\n",
       "      <td>Amazon Video, Google Play Movies</td>\n",
       "    </tr>\n",
       "    <tr>\n",
       "      <th>134</th>\n",
       "      <td>Level</td>\n",
       "      <td>(2021)</td>\n",
       "      <td>3.1</td>\n",
       "      <td>/in/movie/level</td>\n",
       "      <td>Tubi TV</td>\n",
       "    </tr>\n",
       "  </tbody>\n",
       "</table>\n",
       "</div>"
      ],
      "text/plain": [
       "             Show Title Release Year  IMDb Rating  \\\n",
       "130             Hawkeye       (2021)          7.5   \n",
       "131  BLACK AND WHITE TV       (2019)          NaN   \n",
       "132          Kemurikusa       (2019)          6.7   \n",
       "133    Little Manhattan       (2005)          7.4   \n",
       "134               Level       (2021)          3.1   \n",
       "\n",
       "                        Show Link                            Stream  \n",
       "130      /in/tv-show/hawkeye-2021                           Hotstar  \n",
       "131  /in/movie/black-and-white-tv                               NaN  \n",
       "132        /in/tv-show/kemurikusa                Amazon Prime Video  \n",
       "133    /in/movie/little-manhattan  Amazon Video, Google Play Movies  \n",
       "134               /in/movie/level                           Tubi TV  "
      ]
     },
     "execution_count": 11,
     "metadata": {},
     "output_type": "execute_result"
    }
   ],
   "source": [
    "df.tail()"
   ]
  },
  {
   "cell_type": "code",
   "execution_count": 12,
   "metadata": {},
   "outputs": [
    {
     "name": "stdout",
     "output_type": "stream",
     "text": [
      "<class 'pandas.core.frame.DataFrame'>\n",
      "RangeIndex: 135 entries, 0 to 134\n",
      "Data columns (total 5 columns):\n",
      " #   Column        Non-Null Count  Dtype  \n",
      "---  ------        --------------  -----  \n",
      " 0   Show Title    135 non-null    object \n",
      " 1   Release Year  135 non-null    object \n",
      " 2   IMDb Rating   123 non-null    float64\n",
      " 3   Show Link     135 non-null    object \n",
      " 4   Stream        75 non-null     object \n",
      "dtypes: float64(1), object(4)\n",
      "memory usage: 5.4+ KB\n"
     ]
    }
   ],
   "source": [
    "# information about dataset\n",
    "df.info()"
   ]
  },
  {
   "cell_type": "code",
   "execution_count": 13,
   "metadata": {},
   "outputs": [
    {
     "data": {
      "text/plain": [
       "Show Title       0\n",
       "Release Year     0\n",
       "IMDb Rating     12\n",
       "Show Link        0\n",
       "Stream          60\n",
       "dtype: int64"
      ]
     },
     "execution_count": 13,
     "metadata": {},
     "output_type": "execute_result"
    }
   ],
   "source": [
    "# check wheather null values are present in the dataset \n",
    "df.isnull().sum()"
   ]
  },
  {
   "cell_type": "code",
   "execution_count": 14,
   "metadata": {},
   "outputs": [
    {
     "data": {
      "text/plain": [
       "15"
      ]
     },
     "execution_count": 14,
     "metadata": {},
     "output_type": "execute_result"
    }
   ],
   "source": [
    "# check duplicate rows\n",
    "df.duplicated().sum()"
   ]
  },
  {
   "cell_type": "code",
   "execution_count": 15,
   "metadata": {},
   "outputs": [
    {
     "data": {
      "text/plain": [
       "Index(['Show Title', 'Release Year', 'IMDb Rating', 'Show Link', 'Stream'], dtype='object')"
      ]
     },
     "execution_count": 15,
     "metadata": {},
     "output_type": "execute_result"
    }
   ],
   "source": [
    "# dataset columns\n",
    "df.columns"
   ]
  },
  {
   "cell_type": "code",
   "execution_count": 16,
   "metadata": {},
   "outputs": [],
   "source": [
    "# Remove non-numeric characters and convert to number for 'Release Year' column\n",
    "df['Release Year'] = df['Release Year'].apply(lambda x: re.sub('[^0-9]', '', x)).astype(int)\n"
   ]
  },
  {
   "cell_type": "code",
   "execution_count": 17,
   "metadata": {},
   "outputs": [
    {
     "data": {
      "text/html": [
       "<div>\n",
       "<style scoped>\n",
       "    .dataframe tbody tr th:only-of-type {\n",
       "        vertical-align: middle;\n",
       "    }\n",
       "\n",
       "    .dataframe tbody tr th {\n",
       "        vertical-align: top;\n",
       "    }\n",
       "\n",
       "    .dataframe thead th {\n",
       "        text-align: right;\n",
       "    }\n",
       "</style>\n",
       "<table border=\"1\" class=\"dataframe\">\n",
       "  <thead>\n",
       "    <tr style=\"text-align: right;\">\n",
       "      <th></th>\n",
       "      <th>Release Year</th>\n",
       "      <th>IMDb Rating</th>\n",
       "    </tr>\n",
       "  </thead>\n",
       "  <tbody>\n",
       "    <tr>\n",
       "      <th>count</th>\n",
       "      <td>135.000000</td>\n",
       "      <td>123.00000</td>\n",
       "    </tr>\n",
       "    <tr>\n",
       "      <th>mean</th>\n",
       "      <td>2011.207407</td>\n",
       "      <td>6.92439</td>\n",
       "    </tr>\n",
       "    <tr>\n",
       "      <th>std</th>\n",
       "      <td>13.821407</td>\n",
       "      <td>1.07080</td>\n",
       "    </tr>\n",
       "    <tr>\n",
       "      <th>min</th>\n",
       "      <td>1952.000000</td>\n",
       "      <td>3.10000</td>\n",
       "    </tr>\n",
       "    <tr>\n",
       "      <th>25%</th>\n",
       "      <td>2005.000000</td>\n",
       "      <td>6.35000</td>\n",
       "    </tr>\n",
       "    <tr>\n",
       "      <th>50%</th>\n",
       "      <td>2016.000000</td>\n",
       "      <td>7.10000</td>\n",
       "    </tr>\n",
       "    <tr>\n",
       "      <th>75%</th>\n",
       "      <td>2021.000000</td>\n",
       "      <td>7.70000</td>\n",
       "    </tr>\n",
       "    <tr>\n",
       "      <th>max</th>\n",
       "      <td>2024.000000</td>\n",
       "      <td>9.10000</td>\n",
       "    </tr>\n",
       "  </tbody>\n",
       "</table>\n",
       "</div>"
      ],
      "text/plain": [
       "       Release Year  IMDb Rating\n",
       "count    135.000000    123.00000\n",
       "mean    2011.207407      6.92439\n",
       "std       13.821407      1.07080\n",
       "min     1952.000000      3.10000\n",
       "25%     2005.000000      6.35000\n",
       "50%     2016.000000      7.10000\n",
       "75%     2021.000000      7.70000\n",
       "max     2024.000000      9.10000"
      ]
     },
     "execution_count": 17,
     "metadata": {},
     "output_type": "execute_result"
    }
   ],
   "source": [
    "# statistical summary about dataset\n",
    "df.describe()"
   ]
  },
  {
   "cell_type": "code",
   "execution_count": 18,
   "metadata": {},
   "outputs": [],
   "source": [
    "df.drop_duplicates(inplace=True)"
   ]
  },
  {
   "cell_type": "code",
   "execution_count": 19,
   "metadata": {},
   "outputs": [
    {
     "data": {
      "text/plain": [
       "(120, 5)"
      ]
     },
     "execution_count": 19,
     "metadata": {},
     "output_type": "execute_result"
    }
   ],
   "source": [
    "df.shape"
   ]
  },
  {
   "cell_type": "code",
   "execution_count": 20,
   "metadata": {},
   "outputs": [
    {
     "data": {
      "text/html": [
       "<div>\n",
       "<style scoped>\n",
       "    .dataframe tbody tr th:only-of-type {\n",
       "        vertical-align: middle;\n",
       "    }\n",
       "\n",
       "    .dataframe tbody tr th {\n",
       "        vertical-align: top;\n",
       "    }\n",
       "\n",
       "    .dataframe thead th {\n",
       "        text-align: right;\n",
       "    }\n",
       "</style>\n",
       "<table border=\"1\" class=\"dataframe\">\n",
       "  <thead>\n",
       "    <tr style=\"text-align: right;\">\n",
       "      <th></th>\n",
       "      <th>Show Title</th>\n",
       "      <th>Release Year</th>\n",
       "      <th>IMDb Rating</th>\n",
       "      <th>Show Link</th>\n",
       "      <th>Stream</th>\n",
       "    </tr>\n",
       "  </thead>\n",
       "  <tbody>\n",
       "    <tr>\n",
       "      <th>0</th>\n",
       "      <td>Scream: The TV Series</td>\n",
       "      <td>2015</td>\n",
       "      <td>7.0</td>\n",
       "      <td>/in/tv-show/scream</td>\n",
       "      <td>NaN</td>\n",
       "    </tr>\n",
       "    <tr>\n",
       "      <th>1</th>\n",
       "      <td>The King of TV</td>\n",
       "      <td>2022</td>\n",
       "      <td>7.4</td>\n",
       "      <td>/in/tv-show/the-king-of-tv</td>\n",
       "      <td>NaN</td>\n",
       "    </tr>\n",
       "    <tr>\n",
       "      <th>5</th>\n",
       "      <td>Catfish: The TV Show</td>\n",
       "      <td>2012</td>\n",
       "      <td>7.1</td>\n",
       "      <td>/in/tv-show/catfish-the-tv-show</td>\n",
       "      <td>NaN</td>\n",
       "    </tr>\n",
       "    <tr>\n",
       "      <th>8</th>\n",
       "      <td>Moeyo Ken TV</td>\n",
       "      <td>2005</td>\n",
       "      <td>6.3</td>\n",
       "      <td>/in/tv-show/moeyo-ken-tv</td>\n",
       "      <td>NaN</td>\n",
       "    </tr>\n",
       "    <tr>\n",
       "      <th>9</th>\n",
       "      <td>Showrunners: The Art of Running a TV Show</td>\n",
       "      <td>2014</td>\n",
       "      <td>6.7</td>\n",
       "      <td>/in/movie/showrunners-the-art-of-running-a-tv-...</td>\n",
       "      <td>NaN</td>\n",
       "    </tr>\n",
       "  </tbody>\n",
       "</table>\n",
       "</div>"
      ],
      "text/plain": [
       "                                  Show Title  Release Year  IMDb Rating  \\\n",
       "0                      Scream: The TV Series          2015          7.0   \n",
       "1                             The King of TV          2022          7.4   \n",
       "5                       Catfish: The TV Show          2012          7.1   \n",
       "8                               Moeyo Ken TV          2005          6.3   \n",
       "9  Showrunners: The Art of Running a TV Show          2014          6.7   \n",
       "\n",
       "                                           Show Link Stream  \n",
       "0                                 /in/tv-show/scream    NaN  \n",
       "1                         /in/tv-show/the-king-of-tv    NaN  \n",
       "5                    /in/tv-show/catfish-the-tv-show    NaN  \n",
       "8                           /in/tv-show/moeyo-ken-tv    NaN  \n",
       "9  /in/movie/showrunners-the-art-of-running-a-tv-...    NaN  "
      ]
     },
     "execution_count": 20,
     "metadata": {},
     "output_type": "execute_result"
    }
   ],
   "source": [
    "missing_values_df = df[df.isna().any(axis=1)]\n",
    "missing_values_df.head()"
   ]
  },
  {
   "cell_type": "code",
   "execution_count": 21,
   "metadata": {},
   "outputs": [
    {
     "data": {
      "text/plain": [
       "<Axes: >"
      ]
     },
     "execution_count": 21,
     "metadata": {},
     "output_type": "execute_result"
    },
    {
     "data": {
      "image/png": "[encoded data removed]",
      "text/plain": [
       "<Figure size 800x600 with 1 Axes>"
      ]
     },
     "metadata": {},
     "output_type": "display_data"
    }
   ],
   "source": [
    "# Visualising mising values with heatmap \n",
    "\n",
    "plt.figure(figsize=(8, 6))\n",
    "sns.heatmap(df.isnull(), cmap='viridis', cbar=False)"
   ]
  },
  {
   "cell_type": "code",
   "execution_count": 22,
   "metadata": {},
   "outputs": [
    {
     "data": {
      "text/html": [
       "<div>\n",
       "<style scoped>\n",
       "    .dataframe tbody tr th:only-of-type {\n",
       "        vertical-align: middle;\n",
       "    }\n",
       "\n",
       "    .dataframe tbody tr th {\n",
       "        vertical-align: top;\n",
       "    }\n",
       "\n",
       "    .dataframe thead th {\n",
       "        text-align: right;\n",
       "    }\n",
       "</style>\n",
       "<table border=\"1\" class=\"dataframe\">\n",
       "  <thead>\n",
       "    <tr style=\"text-align: right;\">\n",
       "      <th></th>\n",
       "      <th>Show Title</th>\n",
       "      <th>Release Year</th>\n",
       "      <th>IMDb Rating</th>\n",
       "      <th>Show Link</th>\n",
       "      <th>Stream</th>\n",
       "    </tr>\n",
       "  </thead>\n",
       "  <tbody>\n",
       "    <tr>\n",
       "      <th>51</th>\n",
       "      <td>TV in Black: The First Fifty Years</td>\n",
       "      <td>2004</td>\n",
       "      <td>NaN</td>\n",
       "      <td>/in/movie/tv-in-black-the-first-fifty-years</td>\n",
       "      <td>Tubi TV</td>\n",
       "    </tr>\n",
       "  </tbody>\n",
       "</table>\n",
       "</div>"
      ],
      "text/plain": [
       "                            Show Title  Release Year  IMDb Rating  \\\n",
       "51  TV in Black: The First Fifty Years          2004          NaN   \n",
       "\n",
       "                                      Show Link   Stream  \n",
       "51  /in/movie/tv-in-black-the-first-fifty-years  Tubi TV  "
      ]
     },
     "execution_count": 22,
     "metadata": {},
     "output_type": "execute_result"
    }
   ],
   "source": [
    "# randomly inspecting data\n",
    "df.sample()"
   ]
  },
  {
   "cell_type": "code",
   "execution_count": 23,
   "metadata": {},
   "outputs": [
    {
     "data": {
      "text/plain": [
       "0"
      ]
     },
     "execution_count": 23,
     "metadata": {},
     "output_type": "execute_result"
    }
   ],
   "source": [
    "df['Release Year'].isna().sum()"
   ]
  },
  {
   "cell_type": "markdown",
   "metadata": {},
   "source": [
    "## a. Data filtering "
   ]
  },
  {
   "cell_type": "markdown",
   "metadata": {},
   "source": [
    " - Only include movies and TV shows released in the last 2 years (from the current date)."
   ]
  },
  {
   "cell_type": "code",
   "execution_count": 24,
   "metadata": {},
   "outputs": [
    {
     "data": {
      "text/plain": [
       "2024"
      ]
     },
     "execution_count": 24,
     "metadata": {},
     "output_type": "execute_result"
    }
   ],
   "source": [
    "current_year = pd.Timestamp.now().year\n",
    "current_year"
   ]
  },
  {
   "cell_type": "code",
   "execution_count": 25,
   "metadata": {},
   "outputs": [],
   "source": [
    "# Get the current year\n",
    "current_year = pd.Timestamp.now().year \n",
    "\n",
    "# Calculate the year 2 years ago from the current year\n",
    "two_years_ago_year = current_year - 2\n",
    "\n",
    "date_filtered_df = df[df['Release Year']>two_years_ago_year]\n"
   ]
  },
  {
   "cell_type": "code",
   "execution_count": 26,
   "metadata": {},
   "outputs": [
    {
     "data": {
      "text/html": [
       "<div>\n",
       "<style scoped>\n",
       "    .dataframe tbody tr th:only-of-type {\n",
       "        vertical-align: middle;\n",
       "    }\n",
       "\n",
       "    .dataframe tbody tr th {\n",
       "        vertical-align: top;\n",
       "    }\n",
       "\n",
       "    .dataframe thead th {\n",
       "        text-align: right;\n",
       "    }\n",
       "</style>\n",
       "<table border=\"1\" class=\"dataframe\">\n",
       "  <thead>\n",
       "    <tr style=\"text-align: right;\">\n",
       "      <th></th>\n",
       "      <th>Show Title</th>\n",
       "      <th>Release Year</th>\n",
       "      <th>IMDb Rating</th>\n",
       "      <th>Show Link</th>\n",
       "      <th>Stream</th>\n",
       "    </tr>\n",
       "  </thead>\n",
       "  <tbody>\n",
       "    <tr>\n",
       "      <th>99</th>\n",
       "      <td>May December</td>\n",
       "      <td>2023</td>\n",
       "      <td>6.9</td>\n",
       "      <td>/in/movie/may-december</td>\n",
       "      <td>NaN</td>\n",
       "    </tr>\n",
       "    <tr>\n",
       "      <th>94</th>\n",
       "      <td>Saw X</td>\n",
       "      <td>2023</td>\n",
       "      <td>6.6</td>\n",
       "      <td>/in/movie/saw-x</td>\n",
       "      <td>Lionsgate Play, Apple TV, Apple TV</td>\n",
       "    </tr>\n",
       "    <tr>\n",
       "      <th>60</th>\n",
       "      <td>Avalon TV</td>\n",
       "      <td>2023</td>\n",
       "      <td>6.4</td>\n",
       "      <td>/in/tv-show/avalon-tv</td>\n",
       "      <td>WOW Presents Plus</td>\n",
       "    </tr>\n",
       "    <tr>\n",
       "      <th>89</th>\n",
       "      <td>Landscape with Invisible Hand</td>\n",
       "      <td>2023</td>\n",
       "      <td>6.0</td>\n",
       "      <td>/in/movie/landscape-with-invisible-hand</td>\n",
       "      <td>Amazon Prime Video</td>\n",
       "    </tr>\n",
       "    <tr>\n",
       "      <th>84</th>\n",
       "      <td>Anatomy of a Fall</td>\n",
       "      <td>2023</td>\n",
       "      <td>7.8</td>\n",
       "      <td>/in/movie/anatomie-dune-chute</td>\n",
       "      <td>NaN</td>\n",
       "    </tr>\n",
       "  </tbody>\n",
       "</table>\n",
       "</div>"
      ],
      "text/plain": [
       "                       Show Title  Release Year  IMDb Rating  \\\n",
       "99                   May December          2023          6.9   \n",
       "94                          Saw X          2023          6.6   \n",
       "60                      Avalon TV          2023          6.4   \n",
       "89  Landscape with Invisible Hand          2023          6.0   \n",
       "84              Anatomy of a Fall          2023          7.8   \n",
       "\n",
       "                                  Show Link  \\\n",
       "99                   /in/movie/may-december   \n",
       "94                          /in/movie/saw-x   \n",
       "60                    /in/tv-show/avalon-tv   \n",
       "89  /in/movie/landscape-with-invisible-hand   \n",
       "84            /in/movie/anatomie-dune-chute   \n",
       "\n",
       "                                Stream  \n",
       "99                                 NaN  \n",
       "94  Lionsgate Play, Apple TV, Apple TV  \n",
       "60                   WOW Presents Plus  \n",
       "89                  Amazon Prime Video  \n",
       "84                                 NaN  "
      ]
     },
     "execution_count": 26,
     "metadata": {},
     "output_type": "execute_result"
    }
   ],
   "source": [
    "date_filtered_df.sample(5)"
   ]
  },
  {
   "cell_type": "markdown",
   "metadata": {},
   "source": [
    "- Only include movies and TV shows with an IMDb rating of 7 or higher."
   ]
  },
  {
   "cell_type": "code",
   "execution_count": 27,
   "metadata": {},
   "outputs": [],
   "source": [
    "filtered_df = date_filtered_df[date_filtered_df['IMDb Rating']>=7]"
   ]
  },
  {
   "cell_type": "code",
   "execution_count": 28,
   "metadata": {},
   "outputs": [
    {
     "data": {
      "text/html": [
       "<div>\n",
       "<style scoped>\n",
       "    .dataframe tbody tr th:only-of-type {\n",
       "        vertical-align: middle;\n",
       "    }\n",
       "\n",
       "    .dataframe tbody tr th {\n",
       "        vertical-align: top;\n",
       "    }\n",
       "\n",
       "    .dataframe thead th {\n",
       "        text-align: right;\n",
       "    }\n",
       "</style>\n",
       "<table border=\"1\" class=\"dataframe\">\n",
       "  <thead>\n",
       "    <tr style=\"text-align: right;\">\n",
       "      <th></th>\n",
       "      <th>Show Title</th>\n",
       "      <th>Release Year</th>\n",
       "      <th>IMDb Rating</th>\n",
       "      <th>Show Link</th>\n",
       "      <th>Stream</th>\n",
       "    </tr>\n",
       "  </thead>\n",
       "  <tbody>\n",
       "    <tr>\n",
       "      <th>61</th>\n",
       "      <td>Buddy Daddies</td>\n",
       "      <td>2023</td>\n",
       "      <td>7.9</td>\n",
       "      <td>/in/tv-show/buddy-daddies</td>\n",
       "      <td>Crunchyroll</td>\n",
       "    </tr>\n",
       "    <tr>\n",
       "      <th>84</th>\n",
       "      <td>Anatomy of a Fall</td>\n",
       "      <td>2023</td>\n",
       "      <td>7.8</td>\n",
       "      <td>/in/movie/anatomie-dune-chute</td>\n",
       "      <td>NaN</td>\n",
       "    </tr>\n",
       "  </tbody>\n",
       "</table>\n",
       "</div>"
      ],
      "text/plain": [
       "           Show Title  Release Year  IMDb Rating  \\\n",
       "61      Buddy Daddies          2023          7.9   \n",
       "84  Anatomy of a Fall          2023          7.8   \n",
       "\n",
       "                        Show Link       Stream  \n",
       "61      /in/tv-show/buddy-daddies  Crunchyroll  \n",
       "84  /in/movie/anatomie-dune-chute          NaN  "
      ]
     },
     "execution_count": 28,
     "metadata": {},
     "output_type": "execute_result"
    }
   ],
   "source": [
    "filtered_df"
   ]
  },
  {
   "cell_type": "markdown",
   "metadata": {},
   "source": [
    "## b. Data Analysis:"
   ]
  },
  {
   "cell_type": "markdown",
   "metadata": {},
   "source": [
    "- Calculate the average IMDb rating for the scraped  TV shows.\n",
    "      "
   ]
  },
  {
   "cell_type": "code",
   "execution_count": 29,
   "metadata": {},
   "outputs": [
    {
     "name": "stdout",
     "output_type": "stream",
     "text": [
      "Average IMDB Rating for scrapped movies: 6.9\n"
     ]
    }
   ],
   "source": [
    "avg_imdb_rating = df['IMDb Rating'].mean()\n",
    "print(f\"Average IMDB Rating for scrapped movies: {round(avg_imdb_rating,2)}\")"
   ]
  },
  {
   "cell_type": "markdown",
   "metadata": {},
   "source": [
    "- Identify the top 5 Shows that have the Highest IMDB rating"
   ]
  },
  {
   "cell_type": "code",
   "execution_count": 30,
   "metadata": {},
   "outputs": [
    {
     "data": {
      "text/html": [
       "<div>\n",
       "<style scoped>\n",
       "    .dataframe tbody tr th:only-of-type {\n",
       "        vertical-align: middle;\n",
       "    }\n",
       "\n",
       "    .dataframe tbody tr th {\n",
       "        vertical-align: top;\n",
       "    }\n",
       "\n",
       "    .dataframe thead th {\n",
       "        text-align: right;\n",
       "    }\n",
       "</style>\n",
       "<table border=\"1\" class=\"dataframe\">\n",
       "  <thead>\n",
       "    <tr style=\"text-align: right;\">\n",
       "      <th></th>\n",
       "      <th>Show Title</th>\n",
       "      <th>IMDb Rating</th>\n",
       "    </tr>\n",
       "  </thead>\n",
       "  <tbody>\n",
       "    <tr>\n",
       "      <th>76</th>\n",
       "      <td>Brain Candy TV</td>\n",
       "      <td>9.1</td>\n",
       "    </tr>\n",
       "    <tr>\n",
       "      <th>15</th>\n",
       "      <td>Mahabharat</td>\n",
       "      <td>8.9</td>\n",
       "    </tr>\n",
       "    <tr>\n",
       "      <th>70</th>\n",
       "      <td>Das Boot</td>\n",
       "      <td>8.8</td>\n",
       "    </tr>\n",
       "    <tr>\n",
       "      <th>95</th>\n",
       "      <td>The Silence of the Lambs</td>\n",
       "      <td>8.6</td>\n",
       "    </tr>\n",
       "    <tr>\n",
       "      <th>3</th>\n",
       "      <td>Daniel Sloss: Live Shows</td>\n",
       "      <td>8.5</td>\n",
       "    </tr>\n",
       "  </tbody>\n",
       "</table>\n",
       "</div>"
      ],
      "text/plain": [
       "                  Show Title  IMDb Rating\n",
       "76            Brain Candy TV          9.1\n",
       "15                Mahabharat          8.9\n",
       "70                  Das Boot          8.8\n",
       "95  The Silence of the Lambs          8.6\n",
       "3   Daniel Sloss: Live Shows          8.5"
      ]
     },
     "execution_count": 30,
     "metadata": {},
     "output_type": "execute_result"
    }
   ],
   "source": [
    "top_5_movies_by_Imdb_rating = df.sort_values(by = 'IMDb Rating',ascending=False).head()\n",
    "top_5_movies_by_Imdb_rating[['Show Title','IMDb Rating']]"
   ]
  },
  {
   "cell_type": "markdown",
   "metadata": {},
   "source": [
    "- Determine the streaming service with the most significant number of offerings."
   ]
  },
  {
   "cell_type": "code",
   "execution_count": 31,
   "metadata": {},
   "outputs": [
    {
     "name": "stdout",
     "output_type": "stream",
     "text": [
      "The streaming service with the most significant number of offerings is 'Apple TV' with 13 offerings.\n"
     ]
    }
   ],
   "source": [
    "# Split entries in the 'Stream' column into individual streaming services\n",
    "stream_list = df['Stream'].str.split(', ')\n",
    "\n",
    "# Flatten the list of streaming services\n",
    "stream_flat_list = [stream for sublist in stream_list.dropna() for stream in sublist]\n",
    "\n",
    "# Count the occurrences of each streaming service\n",
    "stream_counts = pd.Series(stream_flat_list).value_counts()\n",
    "\n",
    "# Determine the streaming service with the most significant number of offerings\n",
    "most_common_service = stream_counts.idxmax()\n",
    "number_of_offerings = stream_counts.max()\n",
    "\n",
    "print(f\"The streaming service with the most significant number of offerings is '{most_common_service}' with {number_of_offerings} offerings.\")\n"
   ]
  },
  {
   "cell_type": "code",
   "execution_count": 32,
   "metadata": {},
   "outputs": [
    {
     "data": {
      "image/png": "[encoded data removed]",
      "text/plain": [
       "<Figure size 1000x600 with 1 Axes>"
      ]
     },
     "metadata": {},
     "output_type": "display_data"
    }
   ],
   "source": [
    "\n",
    "\n",
    "plt.figure(figsize=(10, 6))\n",
    "sns.barplot(stream_counts)\n",
    "plt.title('Number of Offerings by Streaming Service')\n",
    "plt.xlabel('Streaming Service')\n",
    "plt.ylabel('Number of Offerings')\n",
    "plt.xticks(rotation=45, ha='right')\n",
    "plt.tight_layout()\n",
    "plt.show()"
   ]
  },
  {
   "cell_type": "markdown",
   "metadata": {},
   "source": [
    "- top 10 release years"
   ]
  },
  {
   "cell_type": "code",
   "execution_count": 33,
   "metadata": {},
   "outputs": [
    {
     "data": {
      "image/png": "[encoded data removed]",
      "text/plain": [
       "<Figure size 800x500 with 1 Axes>"
      ]
     },
     "metadata": {},
     "output_type": "display_data"
    }
   ],
   "source": [
    "\n",
    "# Get the top 10 release years and their counts\n",
    "top_10_release_years = df['Release Year'].value_counts().nlargest(10).index\n",
    "\n",
    "# Filter the DataFrame to include only the top 10 release years\n",
    "df_top_10 = df[df['Release Year'].isin(top_10_release_years)]\n",
    "\n",
    "# Calculate the count of releases for each year\n",
    "release_year_counts = df_top_10['Release Year'].value_counts()\n",
    "\n",
    "# Sort the counts in descending order and get the index\n",
    "sorted_index = release_year_counts.sort_values(ascending=False).index\n",
    "\n",
    "\n",
    "\n",
    "# Set the figure size\n",
    "plt.figure(figsize=(8, 5))\n",
    "\n",
    "# Create count plot for the top 10 release years\n",
    "sns.countplot(x='Release Year', data=df_top_10,order=sorted_index, hue='Release Year')\n",
    "\n",
    "# Rotate x-axis labels for better readability\n",
    "plt.xticks(rotation=45)\n",
    "\n",
    "# Add labels and title\n",
    "plt.xlabel('Release Year')\n",
    "plt.ylabel('Count')\n",
    "plt.title('Count of Releases per Year (Top 10)')\n",
    "\n",
    "# Show plot\n",
    "plt.tight_layout()\n",
    "plt.show()\n"
   ]
  },
  {
   "cell_type": "code",
   "execution_count": 34,
   "metadata": {},
   "outputs": [],
   "source": [
    "df.to_csv('cleaned_tvshow_data.csv', index=False)"
   ]
  },
  {
   "cell_type": "markdown",
   "metadata": {},
   "source": [
    "\n",
    "\n",
    "Upon scraping TV show data from JustWatch, we obtained a dataset containing 135 entries. However, upon inspection, we found some data issues to address. There are 12 missing IMDb ratings and 60 missing streaming service values. Furthermore, we identified 15 duplicate rows in the dataset.\n",
    "\n",
    "After cleaning and processing the data, we filtered it based on specific criteria. We included only TV shows released in the last two years and with an IMDb rating of 7 or higher.\n",
    "\n",
    "Moving on to data analysis, we calculated the average IMDb rating for the scraped TV shows, which was found to be 6.9. Additionally, we identified the top 5 TV shows with the highest IMDb ratings, showcasing a diverse range of popular titles.\n",
    "\n",
    "Furthermore, we determined that 'Apple TV' emerged as the streaming service with the most significant number of offerings among the scraped TV shows.\n",
    "\n",
    "Finally, we explored the distribution of TV show releases over the years, highlighting the top 10 release years, providing valuable insights into trends within the TV show landscape.\n",
    "\n",
    "Overall, this project involved scraping, cleaning, and analyzing TV show data from JustWatch, providing insights into TV show ratings, streaming services, and release trends."
   ]
  },
  {
   "cell_type": "markdown",
   "metadata": {},
   "source": [
    "**Conclusion** 📊🔍📈\n",
    "\n",
    "After scraping TV show data from JustWatch, we obtained a dataset with 135 entries. However, data issues were observed: 12 missing IMDb ratings and 60 missing streaming service values, along with 15 duplicate rows.\n",
    "\n",
    "**Data Filtering** 🧹\n",
    "\n",
    "- Only TV shows released in the last two years with an IMDb rating of 7 or higher were included.\n",
    "\n",
    "**Data Analysis** 📊\n",
    "\n",
    "- Average IMDb rating for scraped TV shows: 6.9 🎬📝\n",
    "  \n",
    "- Top 5 TV shows with highest IMDb ratings:\n",
    "  1. Brain Candy TV - 9.1 🧠🍬\n",
    "  2. Mahabharat - 8.9 ⚔️\n",
    "  3. Das Boot - 8.8 🛳️\n",
    "  4. The Silence of the Lambs - 8.6 🐑🔇\n",
    "  5. Daniel Sloss: Live Shows - 8.5 🎤\n",
    "\n",
    "- Streaming service with most significant offerings: 'Apple TV' with 13 offerings 🍏📺\n",
    "\n",
    "- Top 10 release years:\n",
    "  - 2023, 2022, 2021, 2016, 2019, 2018, 2005, 2015, 2020, 2017 📅\n",
    "\n",
    "This project involved scraping, cleaning, and analyzing TV show data from JustWatch, providing insights into TV show ratings, streaming services, and release trends. 📉📊🔍"
   ]
  }
 ],
 "metadata": {
  "kernelspec": {
   "display_name": "Python 3",
   "language": "python",
   "name": "python3"
  },
  "language_info": {
   "codemirror_mode": {
    "name": "ipython",
    "version": 3
   },
   "file_extension": ".py",
   "mimetype": "text/x-python",
   "name": "python",
   "nbconvert_exporter": "python",
   "pygments_lexer": "ipython3",
   "version": "3.11.0"
  }
 },
 "nbformat": 4,
 "nbformat_minor": 2
}
